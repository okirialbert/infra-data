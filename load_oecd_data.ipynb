{
 "cells": [
  {
   "cell_type": "code",
   "execution_count": 1,
   "id": "6b14121c-ede7-4109-8de8-f8265da7262f",
   "metadata": {},
   "outputs": [],
   "source": [
    "import pandas as pd\n",
    "import requests\n",
    "import json"
   ]
  },
  {
   "cell_type": "code",
   "execution_count": 2,
   "id": "2d3826a1-f330-41ee-8398-8ee03d04d116",
   "metadata": {},
   "outputs": [],
   "source": [
    "url = \"https://sdmx.oecd.org/public/rest/data/OECD.ELS.SAE,DSD_POPULATION@DF_POP_PROJ,1.0/AUS..PS._T..?startPeriod=2021&endPeriod=2030&dimensionAtObservation=AllDimensions\""
   ]
  },
  {
   "cell_type": "code",
   "execution_count": 24,
   "id": "2d5d2240-12c1-440f-9667-b122584200f2",
   "metadata": {},
   "outputs": [],
   "source": [
    "url1 = \"https://sdmx.oecd.org/public/rest/dataflow/OECD.ENV.EPI/DSD_GG@DF_ECO_OP/1.0?references=all\""
   ]
  },
  {
   "cell_type": "code",
   "execution_count": 25,
   "id": "8b94cc6a-200b-4862-9e40-3c8f141f2c75",
   "metadata": {},
   "outputs": [],
   "source": [
    "headers = {'Accept': 'application/vnd.sdmx.structure+json'}"
   ]
  },
  {
   "cell_type": "code",
   "execution_count": 26,
   "id": "37ec1ff8-0b76-4f78-8c8f-cf0486334a3b",
   "metadata": {},
   "outputs": [],
   "source": [
    "file = requests.get(url1, headers=headers)\n"
   ]
  },
  {
   "cell_type": "code",
   "execution_count": 21,
   "id": "eb277ccc-3b81-412e-9428-76252814ba40",
   "metadata": {},
   "outputs": [],
   "source": [
    "df = pd.read_csv(\"data.csv\")"
   ]
  },
  {
   "cell_type": "code",
   "execution_count": 23,
   "id": "2dc6c610-3b0b-4c4e-8a96-c979af45236d",
   "metadata": {},
   "outputs": [
    {
     "name": "stdout",
     "output_type": "stream",
     "text": [
      "<class 'pandas.core.frame.DataFrame'>\n",
      "RangeIndex: 208320 entries, 0 to 208319\n",
      "Data columns (total 12 columns):\n",
      " #   Column                          Non-Null Count   Dtype  \n",
      "---  ------                          --------------   -----  \n",
      " 0   DATAFLOW                        208320 non-null  object \n",
      " 1   REF_AREA: Reference area        208320 non-null  object \n",
      " 2   MEASURE: Measure                208320 non-null  object \n",
      " 3   UNIT_MEASURE: Unit of measure   208320 non-null  object \n",
      " 4   SEX: Sex                        208320 non-null  object \n",
      " 5   AGE: Age                        208320 non-null  object \n",
      " 6   TIME_HORIZ: Time horizon        208320 non-null  object \n",
      " 7   TIME_PERIOD: Time period        208320 non-null  int64  \n",
      " 8   OBS_VALUE                       208320 non-null  float64\n",
      " 9   OBS_STATUS: Observation status  208320 non-null  object \n",
      " 10  UNIT_MULT: Unit multiplier      208320 non-null  object \n",
      " 11  DECIMALS: Decimals              208320 non-null  object \n",
      "dtypes: float64(1), int64(1), object(10)\n",
      "memory usage: 19.1+ MB\n"
     ]
    }
   ],
   "source": [
    "df.info()"
   ]
  },
  {
   "cell_type": "code",
   "execution_count": 29,
   "id": "876b8ae1-7392-4b93-9263-32f1f2cae511",
   "metadata": {},
   "outputs": [],
   "source": [
    "json_file = json.loads(file.text)\n",
    "json_data = json_file[\"data\"]"
   ]
  },
  {
   "cell_type": "code",
   "execution_count": 33,
   "id": "58353bfa-b5af-48e9-b517-7f4a3a8501ed",
   "metadata": {},
   "outputs": [],
   "source": [
    "green_df = pd.read_csv(\"green_econ_data.csv\")"
   ]
  },
  {
   "cell_type": "code",
   "execution_count": 34,
   "id": "cf3c48f6-a7da-410b-9fb6-aa4473cf26db",
   "metadata": {},
   "outputs": [
    {
     "data": {
      "text/html": [
       "<div>\n",
       "<style scoped>\n",
       "    .dataframe tbody tr th:only-of-type {\n",
       "        vertical-align: middle;\n",
       "    }\n",
       "\n",
       "    .dataframe tbody tr th {\n",
       "        vertical-align: top;\n",
       "    }\n",
       "\n",
       "    .dataframe thead th {\n",
       "        text-align: right;\n",
       "    }\n",
       "</style>\n",
       "<table border=\"1\" class=\"dataframe\">\n",
       "  <thead>\n",
       "    <tr style=\"text-align: right;\">\n",
       "      <th></th>\n",
       "      <th>DATAFLOW</th>\n",
       "      <th>REF_AREA: Reference area</th>\n",
       "      <th>FREQ: Frequency of observation</th>\n",
       "      <th>MEASURE: Measure</th>\n",
       "      <th>UNIT_MEASURE: Unit of measure</th>\n",
       "      <th>ACTIVITY: Economic activity</th>\n",
       "      <th>TIME_PERIOD: Time period</th>\n",
       "      <th>OBS_VALUE</th>\n",
       "      <th>OBS_STATUS: Observation status</th>\n",
       "      <th>OBS_STATUS_2: Observation status 2</th>\n",
       "      <th>UNIT_MULT: Unit multiplier</th>\n",
       "      <th>PRICE_BASE: Price base</th>\n",
       "      <th>BASE_PER: Base period</th>\n",
       "      <th>TIMELINESS: Timeliness</th>\n",
       "      <th>DECIMALS: Decimals</th>\n",
       "    </tr>\n",
       "  </thead>\n",
       "  <tbody>\n",
       "    <tr>\n",
       "      <th>0</th>\n",
       "      <td>OECD.ENV.EPI:DSD_GG@DF_ECO_OP(1.0)</td>\n",
       "      <td>AZE: Azerbaijan</td>\n",
       "      <td>A: Annual</td>\n",
       "      <td>ODA_ENVSEC: ODA targeting environmental protec...</td>\n",
       "      <td>PT_APD_SEC: Percentage of sector-allocable off...</td>\n",
       "      <td>_T: Total - All activities</td>\n",
       "      <td>2017</td>\n",
       "      <td>2.70</td>\n",
       "      <td>A: Normal value</td>\n",
       "      <td>NaN</td>\n",
       "      <td>0: Units</td>\n",
       "      <td>_Z: Not applicable</td>\n",
       "      <td>NaN</td>\n",
       "      <td>1: 1 year lag, timely</td>\n",
       "      <td>2: Two</td>\n",
       "    </tr>\n",
       "    <tr>\n",
       "      <th>1</th>\n",
       "      <td>OECD.ENV.EPI:DSD_GG@DF_ECO_OP(1.0)</td>\n",
       "      <td>AZE: Azerbaijan</td>\n",
       "      <td>A: Annual</td>\n",
       "      <td>ODA_ENVSEC: ODA targeting environmental protec...</td>\n",
       "      <td>PT_APD_SEC: Percentage of sector-allocable off...</td>\n",
       "      <td>_T: Total - All activities</td>\n",
       "      <td>2018</td>\n",
       "      <td>2.44</td>\n",
       "      <td>A: Normal value</td>\n",
       "      <td>NaN</td>\n",
       "      <td>0: Units</td>\n",
       "      <td>_Z: Not applicable</td>\n",
       "      <td>NaN</td>\n",
       "      <td>1: 1 year lag, timely</td>\n",
       "      <td>2: Two</td>\n",
       "    </tr>\n",
       "    <tr>\n",
       "      <th>2</th>\n",
       "      <td>OECD.ENV.EPI:DSD_GG@DF_ECO_OP(1.0)</td>\n",
       "      <td>AZE: Azerbaijan</td>\n",
       "      <td>A: Annual</td>\n",
       "      <td>ODA_ENVSEC: ODA targeting environmental protec...</td>\n",
       "      <td>PT_APD_SEC: Percentage of sector-allocable off...</td>\n",
       "      <td>_T: Total - All activities</td>\n",
       "      <td>2019</td>\n",
       "      <td>2.59</td>\n",
       "      <td>A: Normal value</td>\n",
       "      <td>NaN</td>\n",
       "      <td>0: Units</td>\n",
       "      <td>_Z: Not applicable</td>\n",
       "      <td>NaN</td>\n",
       "      <td>1: 1 year lag, timely</td>\n",
       "      <td>2: Two</td>\n",
       "    </tr>\n",
       "    <tr>\n",
       "      <th>3</th>\n",
       "      <td>OECD.ENV.EPI:DSD_GG@DF_ECO_OP(1.0)</td>\n",
       "      <td>AZE: Azerbaijan</td>\n",
       "      <td>A: Annual</td>\n",
       "      <td>ODA_ENVSEC: ODA targeting environmental protec...</td>\n",
       "      <td>PT_APD_SEC: Percentage of sector-allocable off...</td>\n",
       "      <td>_T: Total - All activities</td>\n",
       "      <td>2020</td>\n",
       "      <td>0.28</td>\n",
       "      <td>A: Normal value</td>\n",
       "      <td>NaN</td>\n",
       "      <td>0: Units</td>\n",
       "      <td>_Z: Not applicable</td>\n",
       "      <td>NaN</td>\n",
       "      <td>1: 1 year lag, timely</td>\n",
       "      <td>2: Two</td>\n",
       "    </tr>\n",
       "    <tr>\n",
       "      <th>4</th>\n",
       "      <td>OECD.ENV.EPI:DSD_GG@DF_ECO_OP(1.0)</td>\n",
       "      <td>CMR: Cameroon</td>\n",
       "      <td>A: Annual</td>\n",
       "      <td>ENVTAX_VEH: Road transport related tax revenue</td>\n",
       "      <td>PT_TAX_REV_ENV: Percentage of environmentally ...</td>\n",
       "      <td>_T: Total - All activities</td>\n",
       "      <td>1994</td>\n",
       "      <td>5.11</td>\n",
       "      <td>A: Normal value</td>\n",
       "      <td>NaN</td>\n",
       "      <td>0: Units</td>\n",
       "      <td>_Z: Not applicable</td>\n",
       "      <td>NaN</td>\n",
       "      <td>2: 2 years lag</td>\n",
       "      <td>2: Two</td>\n",
       "    </tr>\n",
       "  </tbody>\n",
       "</table>\n",
       "</div>"
      ],
      "text/plain": [
       "                             DATAFLOW REF_AREA: Reference area  \\\n",
       "0  OECD.ENV.EPI:DSD_GG@DF_ECO_OP(1.0)          AZE: Azerbaijan   \n",
       "1  OECD.ENV.EPI:DSD_GG@DF_ECO_OP(1.0)          AZE: Azerbaijan   \n",
       "2  OECD.ENV.EPI:DSD_GG@DF_ECO_OP(1.0)          AZE: Azerbaijan   \n",
       "3  OECD.ENV.EPI:DSD_GG@DF_ECO_OP(1.0)          AZE: Azerbaijan   \n",
       "4  OECD.ENV.EPI:DSD_GG@DF_ECO_OP(1.0)            CMR: Cameroon   \n",
       "\n",
       "  FREQ: Frequency of observation  \\\n",
       "0                      A: Annual   \n",
       "1                      A: Annual   \n",
       "2                      A: Annual   \n",
       "3                      A: Annual   \n",
       "4                      A: Annual   \n",
       "\n",
       "                                    MEASURE: Measure  \\\n",
       "0  ODA_ENVSEC: ODA targeting environmental protec...   \n",
       "1  ODA_ENVSEC: ODA targeting environmental protec...   \n",
       "2  ODA_ENVSEC: ODA targeting environmental protec...   \n",
       "3  ODA_ENVSEC: ODA targeting environmental protec...   \n",
       "4     ENVTAX_VEH: Road transport related tax revenue   \n",
       "\n",
       "                       UNIT_MEASURE: Unit of measure  \\\n",
       "0  PT_APD_SEC: Percentage of sector-allocable off...   \n",
       "1  PT_APD_SEC: Percentage of sector-allocable off...   \n",
       "2  PT_APD_SEC: Percentage of sector-allocable off...   \n",
       "3  PT_APD_SEC: Percentage of sector-allocable off...   \n",
       "4  PT_TAX_REV_ENV: Percentage of environmentally ...   \n",
       "\n",
       "  ACTIVITY: Economic activity  TIME_PERIOD: Time period  OBS_VALUE  \\\n",
       "0  _T: Total - All activities                      2017       2.70   \n",
       "1  _T: Total - All activities                      2018       2.44   \n",
       "2  _T: Total - All activities                      2019       2.59   \n",
       "3  _T: Total - All activities                      2020       0.28   \n",
       "4  _T: Total - All activities                      1994       5.11   \n",
       "\n",
       "  OBS_STATUS: Observation status OBS_STATUS_2: Observation status 2  \\\n",
       "0                A: Normal value                                NaN   \n",
       "1                A: Normal value                                NaN   \n",
       "2                A: Normal value                                NaN   \n",
       "3                A: Normal value                                NaN   \n",
       "4                A: Normal value                                NaN   \n",
       "\n",
       "  UNIT_MULT: Unit multiplier PRICE_BASE: Price base  BASE_PER: Base period  \\\n",
       "0                   0: Units     _Z: Not applicable                    NaN   \n",
       "1                   0: Units     _Z: Not applicable                    NaN   \n",
       "2                   0: Units     _Z: Not applicable                    NaN   \n",
       "3                   0: Units     _Z: Not applicable                    NaN   \n",
       "4                   0: Units     _Z: Not applicable                    NaN   \n",
       "\n",
       "  TIMELINESS: Timeliness DECIMALS: Decimals  \n",
       "0  1: 1 year lag, timely             2: Two  \n",
       "1  1: 1 year lag, timely             2: Two  \n",
       "2  1: 1 year lag, timely             2: Two  \n",
       "3  1: 1 year lag, timely             2: Two  \n",
       "4         2: 2 years lag             2: Two  "
      ]
     },
     "execution_count": 34,
     "metadata": {},
     "output_type": "execute_result"
    }
   ],
   "source": [
    "green_df.head()"
   ]
  },
  {
   "cell_type": "code",
   "execution_count": null,
   "id": "b4afb3b9-62a1-4a4a-b88b-51f8afd5cf75",
   "metadata": {},
   "outputs": [],
   "source": []
  },
  {
   "cell_type": "code",
   "execution_count": 64,
   "id": "4c619ed8-60a9-490e-9157-b67b921f428e",
   "metadata": {},
   "outputs": [],
   "source": [
    "file_json = json.loads(json_f)"
   ]
  },
  {
   "cell_type": "code",
   "execution_count": 66,
   "id": "729bb19c-617e-4d97-bcbf-63b7aa3ae754",
   "metadata": {},
   "outputs": [
    {
     "data": {
      "text/plain": [
       "<bound method Response.json of <Response [200]>>"
      ]
     },
     "execution_count": 66,
     "metadata": {},
     "output_type": "execute_result"
    }
   ],
   "source": [
    "file.json"
   ]
  },
  {
   "cell_type": "code",
   "execution_count": null,
   "id": "dbb9ed12-effb-4b45-8cd8-4611af1c9327",
   "metadata": {},
   "outputs": [],
   "source": []
  },
  {
   "cell_type": "code",
   "execution_count": 17,
   "id": "c772e17b-3fd4-435a-9444-22e77ab0168c",
   "metadata": {},
   "outputs": [],
   "source": [
    "# df_json = pd.read_csv(file.text)"
   ]
  },
  {
   "cell_type": "code",
   "execution_count": null,
   "id": "e5d34709-748f-4a4d-9125-d88a37c3fa0a",
   "metadata": {},
   "outputs": [],
   "source": []
  },
  {
   "cell_type": "code",
   "execution_count": 8,
   "id": "8fe8bcd0-802a-43d6-ac87-354ad1a7a348",
   "metadata": {},
   "outputs": [],
   "source": [
    "df = pd.read_xml(file1.text, xpath=\"//message:Header\", namespaces={\"message\": \"http://www.sdmx.org/resources/sdmxml/schemas/v2_1/message\"})"
   ]
  },
  {
   "cell_type": "code",
   "execution_count": null,
   "id": "ad2fe750-825d-43b3-a32d-76fa4b7f8a43",
   "metadata": {},
   "outputs": [],
   "source": []
  }
 ],
 "metadata": {
  "kernelspec": {
   "display_name": "Python 3 (ipykernel)",
   "language": "python",
   "name": "python3"
  },
  "language_info": {
   "codemirror_mode": {
    "name": "ipython",
    "version": 3
   },
   "file_extension": ".py",
   "mimetype": "text/x-python",
   "name": "python",
   "nbconvert_exporter": "python",
   "pygments_lexer": "ipython3",
   "version": "3.10.7"
  }
 },
 "nbformat": 4,
 "nbformat_minor": 5
}
