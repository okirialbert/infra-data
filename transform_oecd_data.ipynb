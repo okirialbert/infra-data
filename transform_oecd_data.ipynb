{
 "cells": [
  {
   "cell_type": "code",
   "execution_count": 1,
   "id": "41f6fda6-3777-4cec-966c-4a40e5a6cd25",
   "metadata": {},
   "outputs": [],
   "source": [
    "import pandas as pd\n",
    "import requests\n",
    "import json"
   ]
  },
  {
   "cell_type": "code",
   "execution_count": 2,
   "id": "850044b2-10e4-4b4a-b630-c654098b7c69",
   "metadata": {},
   "outputs": [],
   "source": [
    "url_data = \"https://sdmx.oecd.org/public/rest/data/OECD.ENV.EPI,DSD_GG@DF_ECO_OP,1.0/TZA+ETH+UGA+KEN.A.TECHPAT_RD+EGS+IFF_ODA+ENVTAX_VEH+ENGTAX+ENVTAX+ENVTAXTRANS+FPRICE_DIE+FPRICE_PET+EPRICE_RES+EPRICE_IND+REGMNG+GPAT_DE+TECHPAT_PAT+ECOPOL.INV_10P6HB+USD_PPP_L+PT_INV_D+PT_INV_W_ENV+PT_B1GQ+PT_TAX_REV+PT_TAX_REV_ENV+USD_PPP_KWH.?startPeriod=2017&endPeriod=2022&dimensionAtObservation=AllDimensions\""
   ]
  },
  {
   "cell_type": "code",
   "execution_count": 3,
   "id": "e38b3f04-0ddf-449b-a950-c3b4409f9aad",
   "metadata": {},
   "outputs": [],
   "source": [
    "headers = {'Accept': 'application/vnd.sdmx.data+json; charset=utf-8; version=1.0'}"
   ]
  },
  {
   "cell_type": "code",
   "execution_count": 4,
   "id": "a7b9bb25-918e-4d4b-a7be-30165c13b9f1",
   "metadata": {},
   "outputs": [],
   "source": [
    "# url_struct = \"https://sdmx.oecd.org/public/rest/dataflow/OECD.ENV.EPI/DSD_GG@DF_ECO_OP/1.0?references=all\"\n",
    "# headers_struct = {'Accept': 'application/vnd.sdmx.structure+json; charset=utf-8; version=1.0'}"
   ]
  },
  {
   "cell_type": "code",
   "execution_count": 5,
   "id": "694855b0-e92c-4629-95fb-82588ef91bb9",
   "metadata": {},
   "outputs": [],
   "source": [
    "# file = requests.get(url_struct, headers=headers_struct)"
   ]
  },
  {
   "cell_type": "code",
   "execution_count": 6,
   "id": "9cd68418-83ff-4c09-96c9-b6def48b14a6",
   "metadata": {},
   "outputs": [],
   "source": [
    "file_data = requests.get(url_data, headers=headers)"
   ]
  },
  {
   "cell_type": "code",
   "execution_count": 8,
   "id": "8a053be1-78cc-48cd-994c-49cd7632f18b",
   "metadata": {},
   "outputs": [
    {
     "data": {
      "text/plain": [
       "<Response [200]>"
      ]
     },
     "execution_count": 8,
     "metadata": {},
     "output_type": "execute_result"
    }
   ],
   "source": [
    "file_data"
   ]
  },
  {
   "cell_type": "code",
   "execution_count": 172,
   "id": "c3a25056-5bb1-483c-8cbe-3f242bb6e0e5",
   "metadata": {},
   "outputs": [],
   "source": [
    "def print_keyjson(file_json):\n",
    "    if (file_json.status_code == 200):\n",
    "        responseJson = file_json.json()\n",
    "        dataJson = responseJson.get('data')\n",
    "        metaJson = responseJson.get('meta')\n",
    "        errorJson = responseJson.get('error')\n",
    "\n",
    "        print(\"The query ID is: \", metaJson['id'])\n",
    "        print(\"The dataset was prepared on: \", metaJson['prepared'])"
   ]
  },
  {
   "cell_type": "code",
   "execution_count": 173,
   "id": "482e2ce2-7575-4257-b714-eda8eac025d9",
   "metadata": {},
   "outputs": [
    {
     "name": "stdout",
     "output_type": "stream",
     "text": [
      "The query ID is:  IREF000110\n",
      "The dataset was prepared on:  2023-08-24T06:43:19Z\n"
     ]
    }
   ],
   "source": [
    "print_keyjson(file_data)"
   ]
  },
  {
   "cell_type": "code",
   "execution_count": 11,
   "id": "eab7901d-9b58-4612-866a-e3b27ebd9c83",
   "metadata": {},
   "outputs": [],
   "source": []
  },
  {
   "cell_type": "code",
   "execution_count": 174,
   "id": "4e0e7ac3-831c-41ab-a3bc-cf496a36d063",
   "metadata": {},
   "outputs": [],
   "source": [
    "def create_df_temp(response):\n",
    "    # Data transformation\n",
    "\n",
    "    if (response.status_code == 200):\n",
    "\n",
    "        responseJson = response.json()\n",
    "        dataJson = responseJson.get('data')\n",
    "\n",
    "        obsList = dataJson.get('dataSets')[0].get('observations')\n",
    "\n",
    "        if (len(obsList) > 0):\n",
    "\n",
    "            print('Data downloaded from %s' % response.url)\n",
    "\n",
    "            timeList = [item for item in dataJson.get('structure').get('dimensions').get('observation') if item['id'] == 'TIME_PERIOD'][0]['values']\n",
    "            refArea = [item for item in dataJson.get('structure').get('dimensions').get('observation') if item['id'] == 'REF_AREA'][0]['values']\n",
    "            freqList = [item for item in dataJson.get('structure').get('dimensions').get('observation') if item['id'] == 'FREQ'][0]['values']\n",
    "            subjectList = [item for item in dataJson.get('structure').get('dimensions').get('observation') if item['id'] == 'ACTIVITY'][0]['values']\n",
    "            measureList = [item for item in dataJson.get('structure').get('dimensions').get('observation') if item['id'] == 'MEASURE'][0]['values']\n",
    "            unitMeasureList = [item for item in dataJson.get('structure').get('dimensions').get('observation') if item['id'] == 'UNIT_MEASURE'][0]['values']\n",
    "\n",
    "            obs = pd.DataFrame(obsList).transpose()\n",
    "            obs.rename(columns = {0: 'series'}, inplace = True)\n",
    "            obs['id'] = obs.index\n",
    "            obs = obs[['id', 'series']]\n",
    "            obs['dimensions'] = obs.apply(lambda x: re.findall('\\d+', x['id']), axis = 1)\n",
    "            obs['ref_area'] = obs.apply(lambda x: refArea[int(x['dimensions'][0])]['id'], axis = 1)\n",
    "            obs['frequency'] = obs.apply(lambda x: freqList[int(x['dimensions'][1])]['id'], axis = 1)\n",
    "            obs['subject'] = obs.apply(lambda x: subjectList[int(x['dimensions'][4])]['id'], axis = 1)\n",
    "            obs['measure'] = obs.apply(lambda x: measureList[int(x['dimensions'][2])]['id'], axis = 1)\n",
    "            obs['unit_measure'] = obs.apply(lambda x: unitMeasureList[int(x['dimensions'][3])]['id'], axis = 1)\n",
    "            obs['time'] = obs.apply(lambda x: timeList[int(x['dimensions'][5])]['id'], axis = 1)\n",
    "            obs['names'] = obs['subject'] + '_' + obs['measure']\n",
    "\n",
    "            data = obs.pivot_table(index = ['ref_area', 'unit_measure'], columns = ['time'], values = 'series')\n",
    "            \n",
    "            return (obs, data)"
   ]
  },
  {
   "cell_type": "code",
   "execution_count": 175,
   "id": "b42f4d2f-7023-472e-9aec-ce6f647292cf",
   "metadata": {},
   "outputs": [
    {
     "name": "stdout",
     "output_type": "stream",
     "text": [
      "Data downloaded from https://sdmx.oecd.org/public/rest/data/OECD.ENV.EPI,DSD_GG@DF_ECO_OP,1.0/TZA+ETH+UGA+KEN.A.TECHPAT_RD+EGS+IFF_ODA+ENVTAX_VEH+ENGTAX+ENVTAX+ENVTAXTRANS+FPRICE_DIE+FPRICE_PET+EPRICE_RES+EPRICE_IND+REGMNG+GPAT_DE+TECHPAT_PAT+ECOPOL.INV_10P6HB+USD_PPP_L+PT_INV_D+PT_INV_W_ENV+PT_B1GQ+PT_TAX_REV+PT_TAX_REV_ENV+USD_PPP_KWH.?startPeriod=2017&endPeriod=2022&dimensionAtObservation=AllDimensions\n"
     ]
    },
    {
     "data": {
      "text/html": [
       "<div>\n",
       "<style scoped>\n",
       "    .dataframe tbody tr th:only-of-type {\n",
       "        vertical-align: middle;\n",
       "    }\n",
       "\n",
       "    .dataframe tbody tr th {\n",
       "        vertical-align: top;\n",
       "    }\n",
       "\n",
       "    .dataframe thead th {\n",
       "        text-align: right;\n",
       "    }\n",
       "</style>\n",
       "<table border=\"1\" class=\"dataframe\">\n",
       "  <thead>\n",
       "    <tr style=\"text-align: right;\">\n",
       "      <th></th>\n",
       "      <th>id</th>\n",
       "      <th>series</th>\n",
       "      <th>dimensions</th>\n",
       "      <th>ref_area</th>\n",
       "      <th>frequency</th>\n",
       "      <th>subject</th>\n",
       "      <th>measure</th>\n",
       "      <th>unit_measure</th>\n",
       "      <th>time</th>\n",
       "      <th>names</th>\n",
       "    </tr>\n",
       "  </thead>\n",
       "  <tbody>\n",
       "    <tr>\n",
       "      <th>0:0:0:0:0:0</th>\n",
       "      <td>0:0:0:0:0:0</td>\n",
       "      <td>1.99</td>\n",
       "      <td>[0, 0, 0, 0, 0, 0]</td>\n",
       "      <td>KEN</td>\n",
       "      <td>A</td>\n",
       "      <td>_T</td>\n",
       "      <td>FPRICE_DIE</td>\n",
       "      <td>USD_PPP_L</td>\n",
       "      <td>2017</td>\n",
       "      <td>_T_FPRICE_DIE</td>\n",
       "    </tr>\n",
       "    <tr>\n",
       "      <th>0:0:0:0:0:1</th>\n",
       "      <td>0:0:0:0:0:1</td>\n",
       "      <td>2.21</td>\n",
       "      <td>[0, 0, 0, 0, 0, 1]</td>\n",
       "      <td>KEN</td>\n",
       "      <td>A</td>\n",
       "      <td>_T</td>\n",
       "      <td>FPRICE_DIE</td>\n",
       "      <td>USD_PPP_L</td>\n",
       "      <td>2018</td>\n",
       "      <td>_T_FPRICE_DIE</td>\n",
       "    </tr>\n",
       "    <tr>\n",
       "      <th>0:0:0:0:0:2</th>\n",
       "      <td>0:0:0:0:0:2</td>\n",
       "      <td>2.08</td>\n",
       "      <td>[0, 0, 0, 0, 0, 2]</td>\n",
       "      <td>KEN</td>\n",
       "      <td>A</td>\n",
       "      <td>_T</td>\n",
       "      <td>FPRICE_DIE</td>\n",
       "      <td>USD_PPP_L</td>\n",
       "      <td>2019</td>\n",
       "      <td>_T_FPRICE_DIE</td>\n",
       "    </tr>\n",
       "    <tr>\n",
       "      <th>0:0:0:0:0:3</th>\n",
       "      <td>0:0:0:0:0:3</td>\n",
       "      <td>1.81</td>\n",
       "      <td>[0, 0, 0, 0, 0, 3]</td>\n",
       "      <td>KEN</td>\n",
       "      <td>A</td>\n",
       "      <td>_T</td>\n",
       "      <td>FPRICE_DIE</td>\n",
       "      <td>USD_PPP_L</td>\n",
       "      <td>2020</td>\n",
       "      <td>_T_FPRICE_DIE</td>\n",
       "    </tr>\n",
       "    <tr>\n",
       "      <th>0:0:0:0:0:4</th>\n",
       "      <td>0:0:0:0:0:4</td>\n",
       "      <td>1.97</td>\n",
       "      <td>[0, 0, 0, 0, 0, 4]</td>\n",
       "      <td>KEN</td>\n",
       "      <td>A</td>\n",
       "      <td>_T</td>\n",
       "      <td>FPRICE_DIE</td>\n",
       "      <td>USD_PPP_L</td>\n",
       "      <td>2021</td>\n",
       "      <td>_T_FPRICE_DIE</td>\n",
       "    </tr>\n",
       "    <tr>\n",
       "      <th>...</th>\n",
       "      <td>...</td>\n",
       "      <td>...</td>\n",
       "      <td>...</td>\n",
       "      <td>...</td>\n",
       "      <td>...</td>\n",
       "      <td>...</td>\n",
       "      <td>...</td>\n",
       "      <td>...</td>\n",
       "      <td>...</td>\n",
       "      <td>...</td>\n",
       "    </tr>\n",
       "    <tr>\n",
       "      <th>3:0:0:0:0:2</th>\n",
       "      <td>3:0:0:0:0:2</td>\n",
       "      <td>2.86</td>\n",
       "      <td>[3, 0, 0, 0, 0, 2]</td>\n",
       "      <td>UGA</td>\n",
       "      <td>A</td>\n",
       "      <td>_T</td>\n",
       "      <td>FPRICE_DIE</td>\n",
       "      <td>USD_PPP_L</td>\n",
       "      <td>2019</td>\n",
       "      <td>_T_FPRICE_DIE</td>\n",
       "    </tr>\n",
       "    <tr>\n",
       "      <th>3:0:0:0:0:3</th>\n",
       "      <td>3:0:0:0:0:3</td>\n",
       "      <td>2.54</td>\n",
       "      <td>[3, 0, 0, 0, 0, 3]</td>\n",
       "      <td>UGA</td>\n",
       "      <td>A</td>\n",
       "      <td>_T</td>\n",
       "      <td>FPRICE_DIE</td>\n",
       "      <td>USD_PPP_L</td>\n",
       "      <td>2020</td>\n",
       "      <td>_T_FPRICE_DIE</td>\n",
       "    </tr>\n",
       "    <tr>\n",
       "      <th>3:0:2:2:0:0</th>\n",
       "      <td>3:0:2:2:0:0</td>\n",
       "      <td>15.35</td>\n",
       "      <td>[3, 0, 2, 2, 0, 0]</td>\n",
       "      <td>UGA</td>\n",
       "      <td>A</td>\n",
       "      <td>_T</td>\n",
       "      <td>ENVTAX</td>\n",
       "      <td>PT_TAX_REV</td>\n",
       "      <td>2017</td>\n",
       "      <td>_T_ENVTAX</td>\n",
       "    </tr>\n",
       "    <tr>\n",
       "      <th>3:0:2:2:0:1</th>\n",
       "      <td>3:0:2:2:0:1</td>\n",
       "      <td>15.56</td>\n",
       "      <td>[3, 0, 2, 2, 0, 1]</td>\n",
       "      <td>UGA</td>\n",
       "      <td>A</td>\n",
       "      <td>_T</td>\n",
       "      <td>ENVTAX</td>\n",
       "      <td>PT_TAX_REV</td>\n",
       "      <td>2018</td>\n",
       "      <td>_T_ENVTAX</td>\n",
       "    </tr>\n",
       "    <tr>\n",
       "      <th>3:0:2:2:0:2</th>\n",
       "      <td>3:0:2:2:0:2</td>\n",
       "      <td>15.04</td>\n",
       "      <td>[3, 0, 2, 2, 0, 2]</td>\n",
       "      <td>UGA</td>\n",
       "      <td>A</td>\n",
       "      <td>_T</td>\n",
       "      <td>ENVTAX</td>\n",
       "      <td>PT_TAX_REV</td>\n",
       "      <td>2019</td>\n",
       "      <td>_T_ENVTAX</td>\n",
       "    </tr>\n",
       "  </tbody>\n",
       "</table>\n",
       "<p>104 rows × 10 columns</p>\n",
       "</div>"
      ],
      "text/plain": [
       "                      id  series          dimensions ref_area frequency  \\\n",
       "0:0:0:0:0:0  0:0:0:0:0:0    1.99  [0, 0, 0, 0, 0, 0]      KEN         A   \n",
       "0:0:0:0:0:1  0:0:0:0:0:1    2.21  [0, 0, 0, 0, 0, 1]      KEN         A   \n",
       "0:0:0:0:0:2  0:0:0:0:0:2    2.08  [0, 0, 0, 0, 0, 2]      KEN         A   \n",
       "0:0:0:0:0:3  0:0:0:0:0:3    1.81  [0, 0, 0, 0, 0, 3]      KEN         A   \n",
       "0:0:0:0:0:4  0:0:0:0:0:4    1.97  [0, 0, 0, 0, 0, 4]      KEN         A   \n",
       "...                  ...     ...                 ...      ...       ...   \n",
       "3:0:0:0:0:2  3:0:0:0:0:2    2.86  [3, 0, 0, 0, 0, 2]      UGA         A   \n",
       "3:0:0:0:0:3  3:0:0:0:0:3    2.54  [3, 0, 0, 0, 0, 3]      UGA         A   \n",
       "3:0:2:2:0:0  3:0:2:2:0:0   15.35  [3, 0, 2, 2, 0, 0]      UGA         A   \n",
       "3:0:2:2:0:1  3:0:2:2:0:1   15.56  [3, 0, 2, 2, 0, 1]      UGA         A   \n",
       "3:0:2:2:0:2  3:0:2:2:0:2   15.04  [3, 0, 2, 2, 0, 2]      UGA         A   \n",
       "\n",
       "            subject     measure unit_measure  time          names  \n",
       "0:0:0:0:0:0      _T  FPRICE_DIE    USD_PPP_L  2017  _T_FPRICE_DIE  \n",
       "0:0:0:0:0:1      _T  FPRICE_DIE    USD_PPP_L  2018  _T_FPRICE_DIE  \n",
       "0:0:0:0:0:2      _T  FPRICE_DIE    USD_PPP_L  2019  _T_FPRICE_DIE  \n",
       "0:0:0:0:0:3      _T  FPRICE_DIE    USD_PPP_L  2020  _T_FPRICE_DIE  \n",
       "0:0:0:0:0:4      _T  FPRICE_DIE    USD_PPP_L  2021  _T_FPRICE_DIE  \n",
       "...             ...         ...          ...   ...            ...  \n",
       "3:0:0:0:0:2      _T  FPRICE_DIE    USD_PPP_L  2019  _T_FPRICE_DIE  \n",
       "3:0:0:0:0:3      _T  FPRICE_DIE    USD_PPP_L  2020  _T_FPRICE_DIE  \n",
       "3:0:2:2:0:0      _T      ENVTAX   PT_TAX_REV  2017      _T_ENVTAX  \n",
       "3:0:2:2:0:1      _T      ENVTAX   PT_TAX_REV  2018      _T_ENVTAX  \n",
       "3:0:2:2:0:2      _T      ENVTAX   PT_TAX_REV  2019      _T_ENVTAX  \n",
       "\n",
       "[104 rows x 10 columns]"
      ]
     },
     "execution_count": 175,
     "metadata": {},
     "output_type": "execute_result"
    }
   ],
   "source": [
    "temp_df, _ = create_df_temp(file_data)\n",
    "temp_df"
   ]
  },
  {
   "cell_type": "code",
   "execution_count": null,
   "id": "f3bf73f9-47b0-41e4-b34f-893739bbc3d3",
   "metadata": {},
   "outputs": [],
   "source": []
  },
  {
   "cell_type": "code",
   "execution_count": null,
   "id": "cb4136da-4119-408d-b2bf-ec92ad07067a",
   "metadata": {},
   "outputs": [],
   "source": []
  },
  {
   "cell_type": "code",
   "execution_count": null,
   "id": "be56d8d0-9b96-4618-ac34-157f7f04fc56",
   "metadata": {},
   "outputs": [],
   "source": []
  },
  {
   "cell_type": "code",
   "execution_count": null,
   "id": "8745e850-cb63-401f-b2b7-70d0432b538c",
   "metadata": {},
   "outputs": [],
   "source": []
  },
  {
   "cell_type": "code",
   "execution_count": null,
   "id": "443a0cea-673d-41a7-b2af-8dcfd8e3f050",
   "metadata": {},
   "outputs": [],
   "source": []
  },
  {
   "cell_type": "code",
   "execution_count": null,
   "id": "402f64b3-2639-4d0d-ada1-a0cf3c1b75f6",
   "metadata": {},
   "outputs": [],
   "source": []
  },
  {
   "cell_type": "code",
   "execution_count": null,
   "id": "180a5a2d-d314-4472-9313-9d7860f68b4e",
   "metadata": {},
   "outputs": [],
   "source": []
  }
 ],
 "metadata": {
  "kernelspec": {
   "display_name": "Python 3 (ipykernel)",
   "language": "python",
   "name": "python3"
  },
  "language_info": {
   "codemirror_mode": {
    "name": "ipython",
    "version": 3
   },
   "file_extension": ".py",
   "mimetype": "text/x-python",
   "name": "python",
   "nbconvert_exporter": "python",
   "pygments_lexer": "ipython3",
   "version": "3.10.7"
  }
 },
 "nbformat": 4,
 "nbformat_minor": 5
}
